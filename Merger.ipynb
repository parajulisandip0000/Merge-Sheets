{
  "nbformat": 4,
  "nbformat_minor": 0,
  "metadata": {
    "colab": {
      "provenance": []
    },
    "kernelspec": {
      "name": "python3",
      "display_name": "Python 3"
    },
    "language_info": {
      "name": "python"
    }
  },
  "cells": [
    {
      "cell_type": "code",
      "execution_count": null,
      "metadata": {
        "id": "ssHsLon6k3XY"
      },
      "outputs": [],
      "source": [
        "import pandas as pd\n",
        "from google.colab import drive,files"
      ]
    },
    {
      "cell_type": "code",
      "source": [
        "drive.mount('/content/drive')"
      ],
      "metadata": {
        "colab": {
          "base_uri": "https://localhost:8080/"
        },
        "id": "kGGUbZTLlQPH",
        "outputId": "01f3adf9-3ccc-4995-9b54-8ba4e61243a4"
      },
      "execution_count": null,
      "outputs": [
        {
          "output_type": "stream",
          "name": "stdout",
          "text": [
            "Mounted at /content/drive\n"
          ]
        }
      ]
    },
    {
      "cell_type": "code",
      "source": [
        "f1=pd.read_csv(r'/content/drive/My Drive/Colab Notebooks/clients.csv', low_memory=False,encoding= 'unicode_escape')\n",
        "f2=pd.read_csv(r'/content/drive/My Drive/Colab Notebooks/events.csv', low_memory=False,encoding= 'unicode_escape')"
      ],
      "metadata": {
        "id": "8JGymnnhlSHq"
      },
      "execution_count": null,
      "outputs": []
    },
    {
      "cell_type": "code",
      "source": [
        "df = f1.merge(f2, on = \"id\",how = \"outer\")"
      ],
      "metadata": {
        "id": "JubU0IG8lVuw"
      },
      "execution_count": null,
      "outputs": []
    },
    {
      "cell_type": "code",
      "source": [
        "df.to_csv(r\"Results.csv\")\n",
        "files.download('Results.csv')"
      ],
      "metadata": {
        "id": "6NAoFZVklYl8"
      },
      "execution_count": null,
      "outputs": []
    }
  ]
}